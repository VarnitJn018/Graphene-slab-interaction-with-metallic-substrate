{
 "cells": [
  {
   "cell_type": "code",
   "execution_count": null,
   "id": "6653046e-7938-45d1-832f-12520292b7e7",
   "metadata": {
    "execution": {
     "iopub.execute_input": "2024-03-10T03:03:30.874235Z",
     "iopub.status.busy": "2024-03-10T03:03:30.874235Z",
     "iopub.status.idle": "2024-03-10T03:03:32.954739Z",
     "shell.execute_reply": "2024-03-10T03:03:32.953734Z",
     "shell.execute_reply.started": "2024-03-10T03:03:30.874235Z"
    }
   },
   "outputs": [],
   "source": [
    "#Importing the required libraries\n",
    "\n",
    "from ase import build\n",
    "from ase.visualize import view\n",
    "from ase import Atoms\n",
    "from ase.optimize import MDMin\n",
    "from ase.calculators.emt import EMT\n",
    "from acat.build.adlayer import SystematicPatternGenerator as SPG\n",
    "from ase.io import read\n",
    "from ase.calculators.lj import LennardJones as lj\n",
    "import numpy as np\n",
    "from ase.build import graphene\n",
    "import pandas as pd\n",
    "from numpy import ndarray\n",
    "from ase import atom\n",
    "from ase.constraints import FixAtoms\n",
    "from ase.data.pubchem import pubchem_atoms_search\n",
    "from ase.lattice.orthorhombic import BaseCenteredOrthorhombic\n",
    "\n",
    "#-----------------------------\n",
    "## For materials imported from materials project (https://next-gen.materialsproject.org/)\n",
    "\n",
    "#developing the slab of Fe substrate and defining the LJ potential parameters\n",
    "#Fe2SiO4_Orthorhombic = read(\"Fe2SiO4_Orthorhombic.cif\")\n",
    "#slab = Fe2SiO4_Orthorhombic*(9,5,9)\n",
    "\n",
    "#-----------------------------\n",
    "## For materials built usinf ASE library (https://wiki.fysik.dtu.dk/ase/#)\n",
    "slab = build.bcc100('Mo', size = (18,5,8), vacuum = 20)\n",
    "sigma = 0.24370000000000003 #(Hyperparameters for lennard jones potential)\n",
    "epsilon =   0.002588857910353521 #(Hyperparameters for lennard jones potential)\n",
    "calc = lj(sigma = sigma, epsilon = epsilon) \n",
    "x = np.linspace(0,180, num=3)\n",
    "graphene_potential_energy = []\n",
    "angles_x_axis = np.array(x)\n",
    "for i in x:\n",
    "#-----------------------------\n",
    "#building graphene slab over metallic substrate\n",
    "    gr = graphene(size = (5,3,1), vacuum = 20) \n",
    "#-----------------------------\n",
    "#Rotating and aligining the graphene slab over metallic substrate top\n",
    "    gr.rotate(-i,'x') \n",
    "    gr.rotate(90,'y')\n",
    "    gr.wrap\n",
    "    gr.set_cell(slab.cell, scale_atoms = False)\n",
    "    zmin = gr.positions[:, 2].min()\n",
    "    zmax = slab.positions[:, 2].max()\n",
    "    ymin = gr.positions[:, 1].min()\n",
    "    ymax = slab.positions[:, 1].max()\n",
    "    xmin = gr.positions[:, 0].min()\n",
    "    xmax = slab.positions[:, 0].max()\n",
    "    gr.positions += (xmax - xmin - 30, ymax - ymin + 2 , zmax - zmin - 12) \n",
    "#-----------------------------\n",
    "#desigining the total geometry\n",
    "    mark90 = gr + slab \n",
    "#-----------------------------\n",
    "#setting the periodic boundaries\n",
    "    mark90.pbc = [True, True, True] \n",
    "#-----------------------------\n",
    "#function to view the geometry\n",
    "    view(mark90) \n",
    "#-----------------------------\n",
    "#calculating and storing the potential energy of the system\n",
    "    mark90.calc = calc\n",
    "    energy_mark90 = mark90.get_potential_energy() \n",
    "    print(energy_mark90)\n",
    "    #graphene_potential_energy.append(energy_mark90)\n",
    "\n",
    "#graphene_potential_energy_df = pd.DataFrame(graphene_potential_energy,angles_x_axis,columns=['potential_energy'])\n",
    "#pd.DataFrame.to_csv(graphene_potential_energy_df,'test_x30_y2_s18_bcc110_l5.csv')"
   ]
  },
  {
   "cell_type": "code",
   "execution_count": null,
   "id": "cf028623-68fe-481e-be59-4d04cda4ee1c",
   "metadata": {
    "editable": true,
    "slideshow": {
     "slide_type": ""
    },
    "tags": []
   },
   "outputs": [],
   "source": [
    "#Calculating the hyperparameters for the lennard jones potential\n",
    "# for refrence, following are the papers\n",
    "#https://doi.org/10.1103/PhysRevB.62.13104  (see equation 5.) for calculation of sigma and epsion values\n",
    "#https://doi.org/10.1016/j.cplett.2012.03.082  (see below equation 2.) for sigma and epsilon values of graphene\n",
    "# UFF, a Full Periodic Table Force Field for Molecular Mechanics and Molecular Dynamics Simulations (search in google scholar) for all the sigma and epsilon values of different elements\n",
    "#Slab-gr\n",
    "# 2 for slab\n",
    "epsilon1 = 0.00276\n",
    "epsilon2 = 0.056\n",
    "epsilon = (e1*e2*0.043363)**0.5\n",
    "sigma1 = 0.339\n",
    "sigma2 = 0.1484\n",
    "sigma = (s1+s2)/2\n",
    "print(sigma,epsilon)"
   ]
  }
 ],
 "metadata": {
  "kernelspec": {
   "display_name": "Python 3 (ipykernel)",
   "language": "python",
   "name": "python3"
  },
  "language_info": {
   "codemirror_mode": {
    "name": "ipython",
    "version": 3
   },
   "file_extension": ".py",
   "mimetype": "text/x-python",
   "name": "python",
   "nbconvert_exporter": "python",
   "pygments_lexer": "ipython3",
   "version": "3.9.6"
  }
 },
 "nbformat": 4,
 "nbformat_minor": 5
}
